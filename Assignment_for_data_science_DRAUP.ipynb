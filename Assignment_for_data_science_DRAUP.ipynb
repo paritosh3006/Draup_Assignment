{
 "cells": [
  {
   "cell_type": "code",
   "execution_count": 1,
   "metadata": {},
   "outputs": [],
   "source": [
    "#Loading all the required libraries                                                                   \n",
    "import pandas as pd\n",
    "import numpy as np                     \n",
    "import matplotlib.pyplot as plt \n",
    "%matplotlib inline\n",
    "import seaborn as sns"
   ]
  },
  {
   "cell_type": "code",
   "execution_count": 2,
   "metadata": {},
   "outputs": [
    {
     "name": "stdout",
     "output_type": "stream",
     "text": [
      "The shape of news_details dataset is : (3544, 4)\n",
      "The shape of category_mapping dataset is : (3544, 2)\n",
      "The shape of categories dataset is : (7, 2)\n"
     ]
    }
   ],
   "source": [
    "#load the given csv and xlsx datafiles\n",
    "df1= pd.read_excel(\"C:/Users/Sony/Desktop/Assignment_Data Science/news_details.xlsx\")\n",
    "print(\"The shape of news_details dataset is :\",df1.shape)\n",
    "df2= pd.read_excel(\"C:/Users/Sony/Desktop/Assignment_Data Science/category_mapping.xlsx\")\n",
    "print(\"The shape of category_mapping dataset is :\",df2.shape)\n",
    "df3=pd.read_csv(\"C:/Users/Sony/Desktop/Assignment_Data Science/categories.csv\")\n",
    "print(\"The shape of categories dataset is :\",df3.shape)"
   ]
  },
  {
   "cell_type": "code",
   "execution_count": 3,
   "metadata": {},
   "outputs": [
    {
     "data": {
      "text/html": [
       "<div>\n",
       "<style scoped>\n",
       "    .dataframe tbody tr th:only-of-type {\n",
       "        vertical-align: middle;\n",
       "    }\n",
       "\n",
       "    .dataframe tbody tr th {\n",
       "        vertical-align: top;\n",
       "    }\n",
       "\n",
       "    .dataframe thead th {\n",
       "        text-align: right;\n",
       "    }\n",
       "</style>\n",
       "<table border=\"1\" class=\"dataframe\">\n",
       "  <thead>\n",
       "    <tr style=\"text-align: right;\">\n",
       "      <th></th>\n",
       "      <th>news_id</th>\n",
       "      <th>snippet</th>\n",
       "      <th>title</th>\n",
       "      <th>news_description</th>\n",
       "    </tr>\n",
       "  </thead>\n",
       "  <tbody>\n",
       "    <tr>\n",
       "      <th>0</th>\n",
       "      <td>5cb377684f646938b14a96f1_google</td>\n",
       "      <td>New Delhi: Bank of Baroda, which has become th...</td>\n",
       "      <td>Bank of Baroda to hire consultancy firm to eva...</td>\n",
       "      <td>NaN</td>\n",
       "    </tr>\n",
       "    <tr>\n",
       "      <th>1</th>\n",
       "      <td>5cb426d44f646938b10bf6b6_google</td>\n",
       "      <td>He said his plans would be discussed with the ...</td>\n",
       "      <td>Foxconn chairman Gou says he aims to step down...</td>\n",
       "      <td>TAIPEI (Reuters) - The chairman of Taiwan's Fo...</td>\n",
       "    </tr>\n",
       "    <tr>\n",
       "      <th>2</th>\n",
       "      <td>5cb429984f646938b110f937_google</td>\n",
       "      <td>ZF Friedrichshafen AG has announced that it ha...</td>\n",
       "      <td>ZF Finalizes USD 7 Billion Deal to Acquire WABCO</td>\n",
       "      <td>Share 0 Share 0\\n\\nZF Friedrichshafen AG has a...</td>\n",
       "    </tr>\n",
       "    <tr>\n",
       "      <th>3</th>\n",
       "      <td>5cb426b34f646938b10bbeca_google</td>\n",
       "      <td>Zhejiang Geely Holding (ZGH) has begun constru...</td>\n",
       "      <td>Geely Begins Work On New Lotus Plant In China</td>\n",
       "      <td>Zhejiang Geely Holding (ZGH) has begun constru...</td>\n",
       "    </tr>\n",
       "    <tr>\n",
       "      <th>4</th>\n",
       "      <td>5cb426f74f646938b10c3857_google</td>\n",
       "      <td>KFH has partnered with IDEMIA to launch Kuwait...</td>\n",
       "      <td>KFH partners with IDEMIA's to launch metal pay...</td>\n",
       "      <td>NaN</td>\n",
       "    </tr>\n",
       "  </tbody>\n",
       "</table>\n",
       "</div>"
      ],
      "text/plain": [
       "                           news_id  \\\n",
       "0  5cb377684f646938b14a96f1_google   \n",
       "1  5cb426d44f646938b10bf6b6_google   \n",
       "2  5cb429984f646938b110f937_google   \n",
       "3  5cb426b34f646938b10bbeca_google   \n",
       "4  5cb426f74f646938b10c3857_google   \n",
       "\n",
       "                                             snippet  \\\n",
       "0  New Delhi: Bank of Baroda, which has become th...   \n",
       "1  He said his plans would be discussed with the ...   \n",
       "2  ZF Friedrichshafen AG has announced that it ha...   \n",
       "3  Zhejiang Geely Holding (ZGH) has begun constru...   \n",
       "4  KFH has partnered with IDEMIA to launch Kuwait...   \n",
       "\n",
       "                                               title  \\\n",
       "0  Bank of Baroda to hire consultancy firm to eva...   \n",
       "1  Foxconn chairman Gou says he aims to step down...   \n",
       "2   ZF Finalizes USD 7 Billion Deal to Acquire WABCO   \n",
       "3      Geely Begins Work On New Lotus Plant In China   \n",
       "4  KFH partners with IDEMIA's to launch metal pay...   \n",
       "\n",
       "                                    news_description  \n",
       "0                                                NaN  \n",
       "1  TAIPEI (Reuters) - The chairman of Taiwan's Fo...  \n",
       "2  Share 0 Share 0\\n\\nZF Friedrichshafen AG has a...  \n",
       "3  Zhejiang Geely Holding (ZGH) has begun constru...  \n",
       "4                                                NaN  "
      ]
     },
     "execution_count": 3,
     "metadata": {},
     "output_type": "execute_result"
    }
   ],
   "source": [
    "df1.head()"
   ]
  },
  {
   "cell_type": "code",
   "execution_count": 4,
   "metadata": {},
   "outputs": [
    {
     "data": {
      "text/html": [
       "<div>\n",
       "<style scoped>\n",
       "    .dataframe tbody tr th:only-of-type {\n",
       "        vertical-align: middle;\n",
       "    }\n",
       "\n",
       "    .dataframe tbody tr th {\n",
       "        vertical-align: top;\n",
       "    }\n",
       "\n",
       "    .dataframe thead th {\n",
       "        text-align: right;\n",
       "    }\n",
       "</style>\n",
       "<table border=\"1\" class=\"dataframe\">\n",
       "  <thead>\n",
       "    <tr style=\"text-align: right;\">\n",
       "      <th></th>\n",
       "      <th>news_id</th>\n",
       "      <th>category_id</th>\n",
       "    </tr>\n",
       "  </thead>\n",
       "  <tbody>\n",
       "    <tr>\n",
       "      <th>0</th>\n",
       "      <td>5cb377684f646938b14a96f1_google</td>\n",
       "      <td>4</td>\n",
       "    </tr>\n",
       "    <tr>\n",
       "      <th>1</th>\n",
       "      <td>5cb426d44f646938b10bf6b6_google</td>\n",
       "      <td>4</td>\n",
       "    </tr>\n",
       "    <tr>\n",
       "      <th>2</th>\n",
       "      <td>5cb429984f646938b110f937_google</td>\n",
       "      <td>2</td>\n",
       "    </tr>\n",
       "    <tr>\n",
       "      <th>3</th>\n",
       "      <td>5cb426b34f646938b10bbeca_google</td>\n",
       "      <td>5</td>\n",
       "    </tr>\n",
       "    <tr>\n",
       "      <th>4</th>\n",
       "      <td>5cb426f74f646938b10c3857_google</td>\n",
       "      <td>7</td>\n",
       "    </tr>\n",
       "  </tbody>\n",
       "</table>\n",
       "</div>"
      ],
      "text/plain": [
       "                           news_id  category_id\n",
       "0  5cb377684f646938b14a96f1_google            4\n",
       "1  5cb426d44f646938b10bf6b6_google            4\n",
       "2  5cb429984f646938b110f937_google            2\n",
       "3  5cb426b34f646938b10bbeca_google            5\n",
       "4  5cb426f74f646938b10c3857_google            7"
      ]
     },
     "execution_count": 4,
     "metadata": {},
     "output_type": "execute_result"
    }
   ],
   "source": [
    "df2.head()"
   ]
  },
  {
   "cell_type": "code",
   "execution_count": 5,
   "metadata": {},
   "outputs": [
    {
     "data": {
      "text/html": [
       "<div>\n",
       "<style scoped>\n",
       "    .dataframe tbody tr th:only-of-type {\n",
       "        vertical-align: middle;\n",
       "    }\n",
       "\n",
       "    .dataframe tbody tr th {\n",
       "        vertical-align: top;\n",
       "    }\n",
       "\n",
       "    .dataframe thead th {\n",
       "        text-align: right;\n",
       "    }\n",
       "</style>\n",
       "<table border=\"1\" class=\"dataframe\">\n",
       "  <thead>\n",
       "    <tr style=\"text-align: right;\">\n",
       "      <th></th>\n",
       "      <th>id</th>\n",
       "      <th>category</th>\n",
       "    </tr>\n",
       "  </thead>\n",
       "  <tbody>\n",
       "    <tr>\n",
       "      <th>0</th>\n",
       "      <td>1</td>\n",
       "      <td>Layoff</td>\n",
       "    </tr>\n",
       "    <tr>\n",
       "      <th>1</th>\n",
       "      <td>2</td>\n",
       "      <td>Mergers and Acquisitions</td>\n",
       "    </tr>\n",
       "    <tr>\n",
       "      <th>2</th>\n",
       "      <td>3</td>\n",
       "      <td>Mass Hiring</td>\n",
       "    </tr>\n",
       "    <tr>\n",
       "      <th>3</th>\n",
       "      <td>4</td>\n",
       "      <td>Executive Movement</td>\n",
       "    </tr>\n",
       "    <tr>\n",
       "      <th>4</th>\n",
       "      <td>5</td>\n",
       "      <td>Centre Setup and Expansion</td>\n",
       "    </tr>\n",
       "  </tbody>\n",
       "</table>\n",
       "</div>"
      ],
      "text/plain": [
       "   id                    category\n",
       "0   1                      Layoff\n",
       "1   2    Mergers and Acquisitions\n",
       "2   3                 Mass Hiring\n",
       "3   4          Executive Movement\n",
       "4   5  Centre Setup and Expansion"
      ]
     },
     "execution_count": 5,
     "metadata": {},
     "output_type": "execute_result"
    }
   ],
   "source": [
    "df3.head()"
   ]
  },
  {
   "cell_type": "code",
   "execution_count": 6,
   "metadata": {},
   "outputs": [
    {
     "name": "stdout",
     "output_type": "stream",
     "text": [
      "The shape of mapped_data dataset is : (3544, 3)\n"
     ]
    },
    {
     "data": {
      "text/html": [
       "<div>\n",
       "<style scoped>\n",
       "    .dataframe tbody tr th:only-of-type {\n",
       "        vertical-align: middle;\n",
       "    }\n",
       "\n",
       "    .dataframe tbody tr th {\n",
       "        vertical-align: top;\n",
       "    }\n",
       "\n",
       "    .dataframe thead th {\n",
       "        text-align: right;\n",
       "    }\n",
       "</style>\n",
       "<table border=\"1\" class=\"dataframe\">\n",
       "  <thead>\n",
       "    <tr style=\"text-align: right;\">\n",
       "      <th></th>\n",
       "      <th>news_id</th>\n",
       "      <th>category_id</th>\n",
       "      <th>category</th>\n",
       "    </tr>\n",
       "  </thead>\n",
       "  <tbody>\n",
       "    <tr>\n",
       "      <th>0</th>\n",
       "      <td>5cb377684f646938b14a96f1_google</td>\n",
       "      <td>4</td>\n",
       "      <td>Executive Movement</td>\n",
       "    </tr>\n",
       "    <tr>\n",
       "      <th>1</th>\n",
       "      <td>5cb426d44f646938b10bf6b6_google</td>\n",
       "      <td>4</td>\n",
       "      <td>Executive Movement</td>\n",
       "    </tr>\n",
       "    <tr>\n",
       "      <th>2</th>\n",
       "      <td>5cb429984f646938b110f937_google</td>\n",
       "      <td>2</td>\n",
       "      <td>Mergers and Acquisitions</td>\n",
       "    </tr>\n",
       "    <tr>\n",
       "      <th>3</th>\n",
       "      <td>5cb426b34f646938b10bbeca_google</td>\n",
       "      <td>5</td>\n",
       "      <td>Centre Setup and Expansion</td>\n",
       "    </tr>\n",
       "    <tr>\n",
       "      <th>4</th>\n",
       "      <td>5cb426f74f646938b10c3857_google</td>\n",
       "      <td>7</td>\n",
       "      <td>Partnerships</td>\n",
       "    </tr>\n",
       "  </tbody>\n",
       "</table>\n",
       "</div>"
      ],
      "text/plain": [
       "                           news_id  category_id                    category\n",
       "0  5cb377684f646938b14a96f1_google            4          Executive Movement\n",
       "1  5cb426d44f646938b10bf6b6_google            4          Executive Movement\n",
       "2  5cb429984f646938b110f937_google            2    Mergers and Acquisitions\n",
       "3  5cb426b34f646938b10bbeca_google            5  Centre Setup and Expansion\n",
       "4  5cb426f74f646938b10c3857_google            7                Partnerships"
      ]
     },
     "execution_count": 6,
     "metadata": {},
     "output_type": "execute_result"
    }
   ],
   "source": [
    "#renaming column 'id' of df3 to category_id to join it with df2\n",
    "df3.rename(columns={'id':'category_id'},inplace=True)\n",
    "mapped_data=df2.merge(df3,on='category_id',how='left')\n",
    "print(\"The shape of mapped_data dataset is :\",mapped_data.shape)\n",
    "mapped_data.head()\n"
   ]
  },
  {
   "cell_type": "code",
   "execution_count": 7,
   "metadata": {},
   "outputs": [
    {
     "name": "stdout",
     "output_type": "stream",
     "text": [
      "The shape of final_data dataset is : (2721, 6)\n"
     ]
    },
    {
     "data": {
      "text/html": [
       "<div>\n",
       "<style scoped>\n",
       "    .dataframe tbody tr th:only-of-type {\n",
       "        vertical-align: middle;\n",
       "    }\n",
       "\n",
       "    .dataframe tbody tr th {\n",
       "        vertical-align: top;\n",
       "    }\n",
       "\n",
       "    .dataframe thead th {\n",
       "        text-align: right;\n",
       "    }\n",
       "</style>\n",
       "<table border=\"1\" class=\"dataframe\">\n",
       "  <thead>\n",
       "    <tr style=\"text-align: right;\">\n",
       "      <th></th>\n",
       "      <th>news_id</th>\n",
       "      <th>snippet</th>\n",
       "      <th>title</th>\n",
       "      <th>news_description</th>\n",
       "      <th>category_id</th>\n",
       "      <th>category</th>\n",
       "    </tr>\n",
       "  </thead>\n",
       "  <tbody>\n",
       "    <tr>\n",
       "      <th>0</th>\n",
       "      <td>5cb377684f646938b14a96f1_google</td>\n",
       "      <td>New Delhi: Bank of Baroda, which has become th...</td>\n",
       "      <td>Bank of Baroda to hire consultancy firm to eva...</td>\n",
       "      <td>NaN</td>\n",
       "      <td>4</td>\n",
       "      <td>Executive Movement</td>\n",
       "    </tr>\n",
       "    <tr>\n",
       "      <th>1</th>\n",
       "      <td>5cb426d44f646938b10bf6b6_google</td>\n",
       "      <td>He said his plans would be discussed with the ...</td>\n",
       "      <td>Foxconn chairman Gou says he aims to step down...</td>\n",
       "      <td>TAIPEI (Reuters) - The chairman of Taiwan's Fo...</td>\n",
       "      <td>4</td>\n",
       "      <td>Executive Movement</td>\n",
       "    </tr>\n",
       "    <tr>\n",
       "      <th>2</th>\n",
       "      <td>5cb429984f646938b110f937_google</td>\n",
       "      <td>ZF Friedrichshafen AG has announced that it ha...</td>\n",
       "      <td>ZF Finalizes USD 7 Billion Deal to Acquire WABCO</td>\n",
       "      <td>Share 0 Share 0\\n\\nZF Friedrichshafen AG has a...</td>\n",
       "      <td>2</td>\n",
       "      <td>Mergers and Acquisitions</td>\n",
       "    </tr>\n",
       "    <tr>\n",
       "      <th>3</th>\n",
       "      <td>5cb426b34f646938b10bbeca_google</td>\n",
       "      <td>Zhejiang Geely Holding (ZGH) has begun constru...</td>\n",
       "      <td>Geely Begins Work On New Lotus Plant In China</td>\n",
       "      <td>Zhejiang Geely Holding (ZGH) has begun constru...</td>\n",
       "      <td>5</td>\n",
       "      <td>Centre Setup and Expansion</td>\n",
       "    </tr>\n",
       "    <tr>\n",
       "      <th>4</th>\n",
       "      <td>5cb426f74f646938b10c3857_google</td>\n",
       "      <td>KFH has partnered with IDEMIA to launch Kuwait...</td>\n",
       "      <td>KFH partners with IDEMIA's to launch metal pay...</td>\n",
       "      <td>NaN</td>\n",
       "      <td>7</td>\n",
       "      <td>Partnerships</td>\n",
       "    </tr>\n",
       "  </tbody>\n",
       "</table>\n",
       "</div>"
      ],
      "text/plain": [
       "                           news_id  \\\n",
       "0  5cb377684f646938b14a96f1_google   \n",
       "1  5cb426d44f646938b10bf6b6_google   \n",
       "2  5cb429984f646938b110f937_google   \n",
       "3  5cb426b34f646938b10bbeca_google   \n",
       "4  5cb426f74f646938b10c3857_google   \n",
       "\n",
       "                                             snippet  \\\n",
       "0  New Delhi: Bank of Baroda, which has become th...   \n",
       "1  He said his plans would be discussed with the ...   \n",
       "2  ZF Friedrichshafen AG has announced that it ha...   \n",
       "3  Zhejiang Geely Holding (ZGH) has begun constru...   \n",
       "4  KFH has partnered with IDEMIA to launch Kuwait...   \n",
       "\n",
       "                                               title  \\\n",
       "0  Bank of Baroda to hire consultancy firm to eva...   \n",
       "1  Foxconn chairman Gou says he aims to step down...   \n",
       "2   ZF Finalizes USD 7 Billion Deal to Acquire WABCO   \n",
       "3      Geely Begins Work On New Lotus Plant In China   \n",
       "4  KFH partners with IDEMIA's to launch metal pay...   \n",
       "\n",
       "                                    news_description  category_id  \\\n",
       "0                                                NaN            4   \n",
       "1  TAIPEI (Reuters) - The chairman of Taiwan's Fo...            4   \n",
       "2  Share 0 Share 0\\n\\nZF Friedrichshafen AG has a...            2   \n",
       "3  Zhejiang Geely Holding (ZGH) has begun constru...            5   \n",
       "4                                                NaN            7   \n",
       "\n",
       "                     category  \n",
       "0          Executive Movement  \n",
       "1          Executive Movement  \n",
       "2    Mergers and Acquisitions  \n",
       "3  Centre Setup and Expansion  \n",
       "4                Partnerships  "
      ]
     },
     "execution_count": 7,
     "metadata": {},
     "output_type": "execute_result"
    }
   ],
   "source": [
    "# Join df1 and mapped_data on 'news_id', drop the duplicate rows & reset index\n",
    "final_data=df1.merge(mapped_data,on='news_id',how='left')\n",
    "final_data.drop_duplicates(keep='first',inplace=True)\n",
    "final_data.reset_index(drop=True,inplace=True)\n",
    "print(\"The shape of final_data dataset is :\",final_data.shape)\n",
    "final_data.head()"
   ]
  },
  {
   "cell_type": "markdown",
   "metadata": {},
   "source": [
    "# Missing Value Analysis & Imputation"
   ]
  },
  {
   "cell_type": "code",
   "execution_count": 8,
   "metadata": {},
   "outputs": [
    {
     "name": "stdout",
     "output_type": "stream",
     "text": [
      "news_id               0\n",
      "snippet               5\n",
      "title                 0\n",
      "news_description    186\n",
      "category_id           0\n",
      "category              0\n",
      "dtype: int64\n",
      "The shape of final data is : (2721, 2)\n"
     ]
    },
    {
     "data": {
      "text/html": [
       "<div>\n",
       "<style scoped>\n",
       "    .dataframe tbody tr th:only-of-type {\n",
       "        vertical-align: middle;\n",
       "    }\n",
       "\n",
       "    .dataframe tbody tr th {\n",
       "        vertical-align: top;\n",
       "    }\n",
       "\n",
       "    .dataframe thead th {\n",
       "        text-align: right;\n",
       "    }\n",
       "</style>\n",
       "<table border=\"1\" class=\"dataframe\">\n",
       "  <thead>\n",
       "    <tr style=\"text-align: right;\">\n",
       "      <th></th>\n",
       "      <th>news_description</th>\n",
       "      <th>category</th>\n",
       "    </tr>\n",
       "  </thead>\n",
       "  <tbody>\n",
       "    <tr>\n",
       "      <th>0</th>\n",
       "      <td>Bank of Baroda to hire consultancy firm to eva...</td>\n",
       "      <td>Executive Movement</td>\n",
       "    </tr>\n",
       "    <tr>\n",
       "      <th>1</th>\n",
       "      <td>TAIPEI (Reuters) - The chairman of Taiwan's Fo...</td>\n",
       "      <td>Executive Movement</td>\n",
       "    </tr>\n",
       "    <tr>\n",
       "      <th>2</th>\n",
       "      <td>Share 0 Share 0\\n\\nZF Friedrichshafen AG has a...</td>\n",
       "      <td>Mergers and Acquisitions</td>\n",
       "    </tr>\n",
       "    <tr>\n",
       "      <th>3</th>\n",
       "      <td>Zhejiang Geely Holding (ZGH) has begun constru...</td>\n",
       "      <td>Centre Setup and Expansion</td>\n",
       "    </tr>\n",
       "    <tr>\n",
       "      <th>4</th>\n",
       "      <td>KFH partners with IDEMIA's to launch metal pay...</td>\n",
       "      <td>Partnerships</td>\n",
       "    </tr>\n",
       "  </tbody>\n",
       "</table>\n",
       "</div>"
      ],
      "text/plain": [
       "                                    news_description  \\\n",
       "0  Bank of Baroda to hire consultancy firm to eva...   \n",
       "1  TAIPEI (Reuters) - The chairman of Taiwan's Fo...   \n",
       "2  Share 0 Share 0\\n\\nZF Friedrichshafen AG has a...   \n",
       "3  Zhejiang Geely Holding (ZGH) has begun constru...   \n",
       "4  KFH partners with IDEMIA's to launch metal pay...   \n",
       "\n",
       "                     category  \n",
       "0          Executive Movement  \n",
       "1          Executive Movement  \n",
       "2    Mergers and Acquisitions  \n",
       "3  Centre Setup and Expansion  \n",
       "4                Partnerships  "
      ]
     },
     "execution_count": 8,
     "metadata": {},
     "output_type": "execute_result"
    }
   ],
   "source": [
    "# Check the missing values in the final_data\n",
    "print(final_data.isnull().sum())\n",
    "# Imputing NaN values of news_description with title\n",
    "final_data['news_description']= np.where((final_data['news_description'].isnull()),final_data['title'],final_data['news_description'])\n",
    "final_data['snippet']=np.where((final_data['snippet'].isnull()),final_data['title'],final_data['snippet'])\n",
    "#drop the irrelevant columns\n",
    "final_data.drop(['news_id','category_id','snippet','title'],axis=1,inplace=True)\n",
    "print(\"The shape of final data is :\",final_data.shape)\n",
    "final_data.head()"
   ]
  },
  {
   "cell_type": "code",
   "execution_count": 9,
   "metadata": {},
   "outputs": [
    {
     "data": {
      "text/plain": [
       "news_description    0\n",
       "category            0\n",
       "dtype: int64"
      ]
     },
     "execution_count": 9,
     "metadata": {},
     "output_type": "execute_result"
    }
   ],
   "source": [
    "#Recheck the missing values\n",
    "final_data.isnull().sum()"
   ]
  },
  {
   "cell_type": "markdown",
   "metadata": {},
   "source": [
    "# Data Pre-Processing & Lemmatization"
   ]
  },
  {
   "cell_type": "code",
   "execution_count": 10,
   "metadata": {},
   "outputs": [],
   "source": [
    "import nltk\n",
    "import re\n",
    "import string\n",
    "from collections import defaultdict\n",
    "from warnings import simplefilter\n",
    "from nltk.corpus import stopwords\n",
    "from nltk.stem import WordNetLemmatizer\n",
    "from wordcloud import WordCloud, STOPWORDS\n",
    "from sklearn.feature_extraction.text import TfidfVectorizer\n",
    "from sklearn.preprocessing import LabelEncoder\n",
    "#set & initialize the stopwords & punctuation data\n",
    "stop = set(stopwords.words(\"english\"))\n",
    "punc = set(string.punctuation)\n",
    "#Function to remove stopwords,punctuations,numeric digits & free spaces \n",
    "corpus=[]\n",
    "def clean(doc):\n",
    "    result = re.sub(r'^\\s+', \"\",doc)                                             #Removing spaces from start and end\n",
    "    stop_free = ' '.join([i for i in result.lower().split() if i not in stop])   #case folding & stop words removal\n",
    "    punc_free = ''.join([i for i in stop_free if i not in punc])                 # punctuations removal\n",
    "    num_free = ''.join([i for i in punc_free if not i.isdigit()])                # numbers removal\n",
    "    review = re.sub(r'\\s+', ' ',num_free)                                        # Convert multiple spaces to single space\n",
    "    corpus.append(review)"
   ]
  },
  {
   "cell_type": "code",
   "execution_count": 11,
   "metadata": {},
   "outputs": [
    {
     "name": "stdout",
     "output_type": "stream",
     "text": [
      "The length of the corpus is : 2721\n"
     ]
    }
   ],
   "source": [
    "#call the clean function to pre-process the data of all the rows of news_description column\n",
    "for i in range(0, final_data.shape[0]) :\n",
    "    clean(final_data.iloc[i,0])\n",
    "    \n",
    "print(\"The length of the corpus is :\",len(corpus))"
   ]
  },
  {
   "cell_type": "code",
   "execution_count": 12,
   "metadata": {},
   "outputs": [
    {
     "name": "stdout",
     "output_type": "stream",
     "text": [
      "The length of the corpus is : 2721\n"
     ]
    }
   ],
   "source": [
    "# Lemmatization\n",
    "lemmatizer= WordNetLemmatizer()\n",
    "# function to lemmatize the words in the corpus\n",
    "for i in range(0,len(corpus)):\n",
    "    words= nltk.word_tokenize(corpus[i])\n",
    "    newwords=[lemmatizer.lemmatize(word) for word in words]\n",
    "    corpus[i]= \" \".join(newwords)\n",
    "    \n",
    "print(\"The length of the corpus is :\",len(corpus))"
   ]
  },
  {
   "cell_type": "code",
   "execution_count": 13,
   "metadata": {},
   "outputs": [],
   "source": [
    "#Convert the post corpus to dataframe\n",
    "data= pd.DataFrame(corpus,columns={'news_description'})\n",
    "#Concat the catogories of final_data with data\n",
    "whole_data=pd.concat([data,final_data['category']],axis=1)\n",
    "# Transform the string values of category to respective label encoded numeric values\n",
    "encoder = LabelEncoder()\n",
    "whole_data['category']=encoder.fit_transform(whole_data['category'])"
   ]
  },
  {
   "cell_type": "code",
   "execution_count": 14,
   "metadata": {},
   "outputs": [
    {
     "data": {
      "text/html": [
       "<div>\n",
       "<style scoped>\n",
       "    .dataframe tbody tr th:only-of-type {\n",
       "        vertical-align: middle;\n",
       "    }\n",
       "\n",
       "    .dataframe tbody tr th {\n",
       "        vertical-align: top;\n",
       "    }\n",
       "\n",
       "    .dataframe thead th {\n",
       "        text-align: right;\n",
       "    }\n",
       "</style>\n",
       "<table border=\"1\" class=\"dataframe\">\n",
       "  <thead>\n",
       "    <tr style=\"text-align: right;\">\n",
       "      <th></th>\n",
       "      <th>news_description</th>\n",
       "      <th>category</th>\n",
       "    </tr>\n",
       "  </thead>\n",
       "  <tbody>\n",
       "    <tr>\n",
       "      <th>0</th>\n",
       "      <td>bank baroda hire consultancy firm evaluate boa...</td>\n",
       "      <td>2</td>\n",
       "    </tr>\n",
       "    <tr>\n",
       "      <th>1</th>\n",
       "      <td>taipei reuters chairman taiwan foxconn assembl...</td>\n",
       "      <td>2</td>\n",
       "    </tr>\n",
       "    <tr>\n",
       "      <th>2</th>\n",
       "      <td>share share nnzf friedrichshafen ag announced ...</td>\n",
       "      <td>5</td>\n",
       "    </tr>\n",
       "    <tr>\n",
       "      <th>3</th>\n",
       "      <td>zhejiang geely holding zgh begun construction ...</td>\n",
       "      <td>0</td>\n",
       "    </tr>\n",
       "    <tr>\n",
       "      <th>4</th>\n",
       "      <td>kfh partner idemias launch metal payment card</td>\n",
       "      <td>6</td>\n",
       "    </tr>\n",
       "  </tbody>\n",
       "</table>\n",
       "</div>"
      ],
      "text/plain": [
       "                                    news_description  category\n",
       "0  bank baroda hire consultancy firm evaluate boa...         2\n",
       "1  taipei reuters chairman taiwan foxconn assembl...         2\n",
       "2  share share nnzf friedrichshafen ag announced ...         5\n",
       "3  zhejiang geely holding zgh begun construction ...         0\n",
       "4      kfh partner idemias launch metal payment card         6"
      ]
     },
     "execution_count": 14,
     "metadata": {},
     "output_type": "execute_result"
    }
   ],
   "source": [
    "whole_data.head()"
   ]
  },
  {
   "cell_type": "markdown",
   "metadata": {},
   "source": [
    "# Feature Extraction using TF-IDF Vectorization"
   ]
  },
  {
   "cell_type": "code",
   "execution_count": 15,
   "metadata": {},
   "outputs": [
    {
     "name": "stdout",
     "output_type": "stream",
     "text": [
      "The shape of features is : (2721, 16999)\n"
     ]
    }
   ],
   "source": [
    "#Intiatise TD-IDF Vectorizer and transform the input text data\n",
    "tfidf = TfidfVectorizer(sublinear_tf=True, min_df=5, norm='l2', ngram_range=(1, 2), stop_words='english')\n",
    "features = tfidf.fit_transform(whole_data['news_description']).toarray()\n",
    "labels = whole_data['category']\n",
    "print(\"The shape of features is :\",features.shape)"
   ]
  },
  {
   "cell_type": "code",
   "execution_count": 16,
   "metadata": {},
   "outputs": [
    {
     "name": "stdout",
     "output_type": "stream",
     "text": [
      "1-gram top: ['aa', 'aaron', 'abbus', 'abbvie', 'abovennvisit', 'absent', 'absorbing', 'absorption', 'abuse', 'academia']\n",
      "2-gram top: ['ability bring', 'ability company', 'ability expand', 'ability generate', 'ability integrate', 'ability make', 'ability provide', 'able build', 'able choose', 'able obtain']\n"
     ]
    }
   ],
   "source": [
    "# To see the top 10 features by ngram \n",
    "features_by_gram = defaultdict(list)\n",
    "for f, w in zip(tfidf.get_feature_names(), tfidf.idf_):\n",
    "    features_by_gram[len(f.split(' '))].append((f, w))\n",
    "top_n = 10\n",
    "for gram, features in features_by_gram.items():\n",
    "    top_features = sorted(features, key=lambda x: x[1], reverse=True)[:top_n]\n",
    "    top_features = [f[0] for f in top_features]\n",
    "    print('{}-gram top:'.format(gram), top_features)"
   ]
  },
  {
   "cell_type": "markdown",
   "metadata": {},
   "source": [
    "# Train-Test Split"
   ]
  },
  {
   "cell_type": "code",
   "execution_count": 19,
   "metadata": {},
   "outputs": [],
   "source": [
    "from sklearn.model_selection import train_test_split\n",
    "# Split the dataset into train and test\n",
    "X_train, X_test, y_train, y_test = train_test_split(features,labels,test_size=0.2,random_state=1)"
   ]
  },
  {
   "cell_type": "markdown",
   "metadata": {},
   "source": [
    "# Data Modelling"
   ]
  },
  {
   "cell_type": "markdown",
   "metadata": {},
   "source": [
    "# Random Forest "
   ]
  },
  {
   "cell_type": "code",
   "execution_count": 26,
   "metadata": {},
   "outputs": [
    {
     "name": "stdout",
     "output_type": "stream",
     "text": [
      "{'n_estimators': [100, 150, 200, 300, 500, 700]}\n",
      "The best cross validated estimator of Random Forest is : RandomForestClassifier(bootstrap=True, class_weight=None, criterion='gini',\n",
      "            max_depth=None, max_features='auto', max_leaf_nodes=None,\n",
      "            min_impurity_decrease=0.0, min_impurity_split=None,\n",
      "            min_samples_leaf=1, min_samples_split=2,\n",
      "            min_weight_fraction_leaf=0.0, n_estimators=200, n_jobs=None,\n",
      "            oob_score=False, random_state=1, verbose=0, warm_start=False)\n",
      "The best cross validated Accuracy of Random Forest is : 0.7486213235294118\n"
     ]
    },
    {
     "data": {
      "text/html": [
       "<div>\n",
       "<style scoped>\n",
       "    .dataframe tbody tr th:only-of-type {\n",
       "        vertical-align: middle;\n",
       "    }\n",
       "\n",
       "    .dataframe tbody tr th {\n",
       "        vertical-align: top;\n",
       "    }\n",
       "\n",
       "    .dataframe thead th {\n",
       "        text-align: right;\n",
       "    }\n",
       "</style>\n",
       "<table border=\"1\" class=\"dataframe\">\n",
       "  <thead>\n",
       "    <tr style=\"text-align: right;\">\n",
       "      <th></th>\n",
       "      <th>params</th>\n",
       "      <th>mean_test_score</th>\n",
       "    </tr>\n",
       "  </thead>\n",
       "  <tbody>\n",
       "    <tr>\n",
       "      <th>0</th>\n",
       "      <td>{'n_estimators': 100}</td>\n",
       "      <td>0.743107</td>\n",
       "    </tr>\n",
       "    <tr>\n",
       "      <th>1</th>\n",
       "      <td>{'n_estimators': 150}</td>\n",
       "      <td>0.745864</td>\n",
       "    </tr>\n",
       "    <tr>\n",
       "      <th>2</th>\n",
       "      <td>{'n_estimators': 200}</td>\n",
       "      <td>0.748621</td>\n",
       "    </tr>\n",
       "    <tr>\n",
       "      <th>3</th>\n",
       "      <td>{'n_estimators': 300}</td>\n",
       "      <td>0.747243</td>\n",
       "    </tr>\n",
       "    <tr>\n",
       "      <th>4</th>\n",
       "      <td>{'n_estimators': 500}</td>\n",
       "      <td>0.745404</td>\n",
       "    </tr>\n",
       "    <tr>\n",
       "      <th>5</th>\n",
       "      <td>{'n_estimators': 700}</td>\n",
       "      <td>0.743566</td>\n",
       "    </tr>\n",
       "  </tbody>\n",
       "</table>\n",
       "</div>"
      ],
      "text/plain": [
       "                  params  mean_test_score\n",
       "0  {'n_estimators': 100}         0.743107\n",
       "1  {'n_estimators': 150}         0.745864\n",
       "2  {'n_estimators': 200}         0.748621\n",
       "3  {'n_estimators': 300}         0.747243\n",
       "4  {'n_estimators': 500}         0.745404\n",
       "5  {'n_estimators': 700}         0.743566"
      ]
     },
     "execution_count": 26,
     "metadata": {},
     "output_type": "execute_result"
    }
   ],
   "source": [
    "from sklearn.model_selection import GridSearchCV\n",
    "from sklearn.ensemble import RandomForestClassifier\n",
    "from sklearn import metrics\n",
    "from sklearn.metrics import confusion_matrix\n",
    "from sklearn.metrics import accuracy_score\n",
    "# Import the random forest model\n",
    "rf=RandomForestClassifier(random_state=1)\n",
    "# Define the list of estimators for the Random forest to be built\n",
    "est=list([100,150,200,300,500,700])\n",
    "param_grid= dict(n_estimators=est)\n",
    "print(param_grid)\n",
    "# instantiate the gridsearch using random forest model\n",
    "grid_rf = GridSearchCV(rf, param_grid, cv=4,scoring='accuracy', return_train_score=False)\n",
    "# Fit the random forest grid\n",
    "grid_rf.fit(X_train,y_train)\n",
    "#Print the best estimated model\n",
    "print(\"The best cross validated estimator of Random Forest is :\",grid_rf.best_estimator_)\n",
    "# Print the best score of accuracy\n",
    "print(\"The best cross validated Accuracy of Random Forest is :\",grid_rf.best_score_)\n",
    "#Print the given parameters & corresponding accuracy value from each 4-fold cross validation \n",
    "pd.DataFrame(grid_rf.cv_results_)[[ 'params','mean_test_score']]"
   ]
  },
  {
   "cell_type": "code",
   "execution_count": 27,
   "metadata": {},
   "outputs": [],
   "source": [
    "# Predict on the test dataset\n",
    "rf_predicted=grid_rf.predict(X_test)"
   ]
  },
  {
   "cell_type": "code",
   "execution_count": 21,
   "metadata": {},
   "outputs": [],
   "source": [
    "# Function for confusion matrix heatmap\n",
    "def heatmapcm(actual,predicted,mname) :\n",
    "    cm = confusion_matrix(actual, predicted)\n",
    "    df_cm = pd.DataFrame(cm, range(7),range(7)) \n",
    "    fig, ax = plt.subplots(figsize=(6,6))\n",
    "    sns.heatmap(df_cm, annot=True,fmt='g')\n",
    "    plt.ylabel('Actual')\n",
    "    plt.xlabel('Predicted')\n",
    "    ax.set_title(f'Confusion Matrix for {mname} Model')\n",
    "    return plt.show()"
   ]
  },
  {
   "cell_type": "code",
   "execution_count": 31,
   "metadata": {},
   "outputs": [
    {
     "data": {
      "image/png": "[encoded data removed]",
      "text/plain": [
       "<Figure size 432x432 with 2 Axes>"
      ]
     },
     "metadata": {
      "needs_background": "light"
     },
     "output_type": "display_data"
    },
    {
     "name": "stdout",
     "output_type": "stream",
     "text": [
      "                            precision    recall  f1-score   support\n",
      "\n",
      "Centre Setup and Expansion       0.81      0.75      0.78       119\n",
      "                     Deals       0.72      0.43      0.54        65\n",
      "        Executive Movement       0.81      0.97      0.89       149\n",
      "                    Layoff       1.00      0.27      0.42        15\n",
      "               Mass Hiring       1.00      0.33      0.50        15\n",
      "  Mergers and Acquisitions       0.86      0.75      0.80        79\n",
      "              Partnerships       0.65      0.88      0.75       103\n",
      "\n",
      "                 micro avg       0.77      0.77      0.77       545\n",
      "                 macro avg       0.84      0.63      0.67       545\n",
      "              weighted avg       0.79      0.77      0.76       545\n",
      "\n",
      "The test accuracy of Random Forest is :77.248%\n"
     ]
    }
   ],
   "source": [
    "# call the heatmap function for random forest\n",
    "heatmapcm(y_test,rf_predicted,'Random Forest')\n",
    "# print the classification metrics report\n",
    "print(metrics.classification_report(y_test, rf_predicted,target_names=encoder.classes_))\n",
    "# print the accuracy score for test dataset\n",
    "print(f'The test accuracy of Random Forest is :{(accuracy_score(y_test, rf_predicted)*100):.3f}%')"
   ]
  },
  {
   "cell_type": "markdown",
   "metadata": {},
   "source": [
    "# Multinomial NaiveBayes"
   ]
  },
  {
   "cell_type": "code",
   "execution_count": 20,
   "metadata": {},
   "outputs": [
    {
     "name": "stdout",
     "output_type": "stream",
     "text": [
      "{'alpha': [0.01, 0.1, 0.2, 0.5, 1, 2, 3, 4]}\n",
      "The best cross validated estimator of Multinomial NB model is : MultinomialNB(alpha=0.1, class_prior=None, fit_prior=True)\n",
      "The best cross validated Accuracy of Multinomial NB model is : 0.7320772058823529\n"
     ]
    },
    {
     "data": {
      "text/html": [
       "<div>\n",
       "<style scoped>\n",
       "    .dataframe tbody tr th:only-of-type {\n",
       "        vertical-align: middle;\n",
       "    }\n",
       "\n",
       "    .dataframe tbody tr th {\n",
       "        vertical-align: top;\n",
       "    }\n",
       "\n",
       "    .dataframe thead th {\n",
       "        text-align: right;\n",
       "    }\n",
       "</style>\n",
       "<table border=\"1\" class=\"dataframe\">\n",
       "  <thead>\n",
       "    <tr style=\"text-align: right;\">\n",
       "      <th></th>\n",
       "      <th>params</th>\n",
       "      <th>mean_test_score</th>\n",
       "    </tr>\n",
       "  </thead>\n",
       "  <tbody>\n",
       "    <tr>\n",
       "      <th>0</th>\n",
       "      <td>{'alpha': 0.01}</td>\n",
       "      <td>0.730699</td>\n",
       "    </tr>\n",
       "    <tr>\n",
       "      <th>1</th>\n",
       "      <td>{'alpha': 0.1}</td>\n",
       "      <td>0.732077</td>\n",
       "    </tr>\n",
       "    <tr>\n",
       "      <th>2</th>\n",
       "      <td>{'alpha': 0.2}</td>\n",
       "      <td>0.715074</td>\n",
       "    </tr>\n",
       "    <tr>\n",
       "      <th>3</th>\n",
       "      <td>{'alpha': 0.5}</td>\n",
       "      <td>0.672794</td>\n",
       "    </tr>\n",
       "    <tr>\n",
       "      <th>4</th>\n",
       "      <td>{'alpha': 1}</td>\n",
       "      <td>0.622702</td>\n",
       "    </tr>\n",
       "    <tr>\n",
       "      <th>5</th>\n",
       "      <td>{'alpha': 2}</td>\n",
       "      <td>0.559283</td>\n",
       "    </tr>\n",
       "    <tr>\n",
       "      <th>6</th>\n",
       "      <td>{'alpha': 3}</td>\n",
       "      <td>0.533548</td>\n",
       "    </tr>\n",
       "    <tr>\n",
       "      <th>7</th>\n",
       "      <td>{'alpha': 4}</td>\n",
       "      <td>0.509191</td>\n",
       "    </tr>\n",
       "  </tbody>\n",
       "</table>\n",
       "</div>"
      ],
      "text/plain": [
       "            params  mean_test_score\n",
       "0  {'alpha': 0.01}         0.730699\n",
       "1   {'alpha': 0.1}         0.732077\n",
       "2   {'alpha': 0.2}         0.715074\n",
       "3   {'alpha': 0.5}         0.672794\n",
       "4     {'alpha': 1}         0.622702\n",
       "5     {'alpha': 2}         0.559283\n",
       "6     {'alpha': 3}         0.533548\n",
       "7     {'alpha': 4}         0.509191"
      ]
     },
     "execution_count": 20,
     "metadata": {},
     "output_type": "execute_result"
    }
   ],
   "source": [
    "from sklearn.naive_bayes import MultinomialNB\n",
    "# Import the Multinomial NB model\n",
    "nb = MultinomialNB()\n",
    "# Define the list of estimators for the Multinomial NB model to be built\n",
    "est=list([0.01,0.1,0.2,0.5,1,2,3,4])\n",
    "param_grid= dict(alpha=est)\n",
    "print(param_grid)\n",
    "# instantiate the gridsearch using Multinomial NB model\n",
    "grid_nb = GridSearchCV(nb, param_grid, cv=4,scoring='accuracy', return_train_score=False)\n",
    "# Fit the Multinomial NB model\n",
    "grid_nb.fit(X_train,y_train)\n",
    "#Print the best estimated model\n",
    "print(\"The best cross validated estimator of Multinomial NB model is :\",grid_nb.best_estimator_)\n",
    "# Print the best score of accuracy\n",
    "print(\"The best cross validated Accuracy of Multinomial NB model is :\",grid_nb.best_score_)\n",
    "#Print the given parameters & corresponding accuracy value from each 4-fold cross validation \n",
    "pd.DataFrame(grid_nb.cv_results_)[[ 'params','mean_test_score']]"
   ]
  },
  {
   "cell_type": "code",
   "execution_count": 22,
   "metadata": {},
   "outputs": [
    {
     "data": {
      "image/png": "[encoded data removed]",
      "text/plain": [
       "<Figure size 432x432 with 2 Axes>"
      ]
     },
     "metadata": {
      "needs_background": "light"
     },
     "output_type": "display_data"
    },
    {
     "name": "stdout",
     "output_type": "stream",
     "text": [
      "                            precision    recall  f1-score   support\n",
      "\n",
      "Centre Setup and Expansion       0.81      0.73      0.77       119\n",
      "                     Deals       0.59      0.46      0.52        65\n",
      "        Executive Movement       0.90      0.93      0.91       149\n",
      "                    Layoff       0.88      0.47      0.61        15\n",
      "               Mass Hiring       1.00      0.53      0.70        15\n",
      "  Mergers and Acquisitions       0.82      0.70      0.75        79\n",
      "              Partnerships       0.57      0.83      0.68       103\n",
      "\n",
      "                 micro avg       0.75      0.75      0.75       545\n",
      "                 macro avg       0.79      0.66      0.70       545\n",
      "              weighted avg       0.77      0.75      0.75       545\n",
      "\n",
      "The test accuracy of Multinomial Naive Bayes model is :75.413%\n"
     ]
    }
   ],
   "source": [
    "# Predict on the test dataset\n",
    "nb_predicted=grid_nb.predict(X_test)\n",
    "# call the heatmap function for NB model\n",
    "heatmapcm(y_test,nb_predicted,'Multinomial NB')\n",
    "# print the classification metrics report\n",
    "print(metrics.classification_report(y_test, nb_predicted,target_names=encoder.classes_))\n",
    "# print the accuracy score for test dataset\n",
    "print(f'The test accuracy of Multinomial Naive Bayes model is :{(accuracy_score(y_test,nb_predicted)*100):.3f}%')"
   ]
  },
  {
   "cell_type": "markdown",
   "metadata": {},
   "source": [
    "#  Logistic Regression "
   ]
  },
  {
   "cell_type": "code",
   "execution_count": 39,
   "metadata": {},
   "outputs": [
    {
     "name": "stdout",
     "output_type": "stream",
     "text": [
      "{'C': [1, 5, 10, 15, 20, 25, 30]}\n",
      "The best cross validated estimator of Logistic Regression model is : LogisticRegression(C=30, class_weight=None, dual=False, fit_intercept=True,\n",
      "          intercept_scaling=1, max_iter=100, multi_class='warn',\n",
      "          n_jobs=None, penalty='l2', random_state=0, solver='warn',\n",
      "          tol=0.0001, verbose=0, warm_start=False)\n",
      "The best cross validated Accuracy of Logistic Regression model is : 0.8092830882352942\n"
     ]
    },
    {
     "data": {
      "text/html": [
       "<div>\n",
       "<style scoped>\n",
       "    .dataframe tbody tr th:only-of-type {\n",
       "        vertical-align: middle;\n",
       "    }\n",
       "\n",
       "    .dataframe tbody tr th {\n",
       "        vertical-align: top;\n",
       "    }\n",
       "\n",
       "    .dataframe thead th {\n",
       "        text-align: right;\n",
       "    }\n",
       "</style>\n",
       "<table border=\"1\" class=\"dataframe\">\n",
       "  <thead>\n",
       "    <tr style=\"text-align: right;\">\n",
       "      <th></th>\n",
       "      <th>params</th>\n",
       "      <th>mean_test_score</th>\n",
       "    </tr>\n",
       "  </thead>\n",
       "  <tbody>\n",
       "    <tr>\n",
       "      <th>0</th>\n",
       "      <td>{'C': 1}</td>\n",
       "      <td>0.748162</td>\n",
       "    </tr>\n",
       "    <tr>\n",
       "      <th>1</th>\n",
       "      <td>{'C': 5}</td>\n",
       "      <td>0.794118</td>\n",
       "    </tr>\n",
       "    <tr>\n",
       "      <th>2</th>\n",
       "      <td>{'C': 10}</td>\n",
       "      <td>0.802390</td>\n",
       "    </tr>\n",
       "    <tr>\n",
       "      <th>3</th>\n",
       "      <td>{'C': 15}</td>\n",
       "      <td>0.805607</td>\n",
       "    </tr>\n",
       "    <tr>\n",
       "      <th>4</th>\n",
       "      <td>{'C': 20}</td>\n",
       "      <td>0.805147</td>\n",
       "    </tr>\n",
       "    <tr>\n",
       "      <th>5</th>\n",
       "      <td>{'C': 25}</td>\n",
       "      <td>0.806985</td>\n",
       "    </tr>\n",
       "    <tr>\n",
       "      <th>6</th>\n",
       "      <td>{'C': 30}</td>\n",
       "      <td>0.809283</td>\n",
       "    </tr>\n",
       "  </tbody>\n",
       "</table>\n",
       "</div>"
      ],
      "text/plain": [
       "      params  mean_test_score\n",
       "0   {'C': 1}         0.748162\n",
       "1   {'C': 5}         0.794118\n",
       "2  {'C': 10}         0.802390\n",
       "3  {'C': 15}         0.805607\n",
       "4  {'C': 20}         0.805147\n",
       "5  {'C': 25}         0.806985\n",
       "6  {'C': 30}         0.809283"
      ]
     },
     "execution_count": 39,
     "metadata": {},
     "output_type": "execute_result"
    }
   ],
   "source": [
    "from sklearn.linear_model import LogisticRegression\n",
    "# ignore all future warnings\n",
    "simplefilter(action='ignore', category=FutureWarning)\n",
    "# Import the Logistic Regression model\n",
    "lr= LogisticRegression(random_state=0)\n",
    "# Define the list of estimators for Logistic Regression model to be built\n",
    "est=list([1,5,10,15,20,25,30])\n",
    "param_grid= dict(C=est)\n",
    "print(param_grid)\n",
    "grid_lr = GridSearchCV(lr, param_grid, cv=4,scoring='accuracy', return_train_score=False)\n",
    "# Fit the random forest grid\n",
    "grid_lr.fit(X_train,y_train)\n",
    "#Print the best estimated model\n",
    "print(\"The best cross validated estimator of Logistic Regression model is :\",grid_lr.best_estimator_)\n",
    "# Print the best score of accuracy\n",
    "print(\"The best cross validated Accuracy of Logistic Regression model is :\",grid_lr.best_score_)\n",
    "#Print the given parameters & corresponding accuracy value from each 4-fold cross validation \n",
    "pd.DataFrame(grid_lr.cv_results_)[[ 'params','mean_test_score']]"
   ]
  },
  {
   "cell_type": "code",
   "execution_count": 44,
   "metadata": {},
   "outputs": [
    {
     "data": {
      "image/png": "[encoded data removed]",
      "text/plain": [
       "<Figure size 432x432 with 2 Axes>"
      ]
     },
     "metadata": {
      "needs_background": "light"
     },
     "output_type": "display_data"
    },
    {
     "name": "stdout",
     "output_type": "stream",
     "text": [
      "                            precision    recall  f1-score   support\n",
      "\n",
      "Centre Setup and Expansion       0.87      0.84      0.85       119\n",
      "                     Deals       0.71      0.63      0.67        65\n",
      "        Executive Movement       0.93      0.95      0.94       149\n",
      "                    Layoff       0.82      0.60      0.69        15\n",
      "               Mass Hiring       1.00      0.67      0.80        15\n",
      "  Mergers and Acquisitions       0.92      0.82      0.87        79\n",
      "              Partnerships       0.74      0.92      0.82       103\n",
      "\n",
      "                 micro avg       0.85      0.85      0.85       545\n",
      "                 macro avg       0.85      0.78      0.81       545\n",
      "              weighted avg       0.85      0.85      0.84       545\n",
      "\n",
      "The test accuracy of Logistic Regression model is :84.587%\n"
     ]
    }
   ],
   "source": [
    "# Predict on the test dataset\n",
    "lr_predicted=grid_lr.predict(X_test)\n",
    "# call the heatmap function for Logistic Regression model\n",
    "heatmapcm(y_test,lr_predicted,'Logistic Regression')\n",
    "# print the classification metrics report\n",
    "print(metrics.classification_report(y_test, lr_predicted,target_names=encoder.classes_))\n",
    "# print the accuracy score for test dataset\n",
    "print(f'The test accuracy of Logistic Regression model is :{(accuracy_score(y_test,lr_predicted)*100):.3f}%')"
   ]
  },
  {
   "cell_type": "markdown",
   "metadata": {},
   "source": [
    "# Final Model : Logistic Regression"
   ]
  },
  {
   "cell_type": "code",
   "execution_count": 28,
   "metadata": {
    "scrolled": true
   },
   "outputs": [
    {
     "data": {
      "text/plain": [
       "['Logistic_Regression_Python_model.sav']"
      ]
     },
     "execution_count": 28,
     "metadata": {},
     "output_type": "execute_result"
    }
   ],
   "source": [
    "from imblearn.over_sampling import SMOTE\n",
    "from sklearn.externals import joblib\n",
    "# Save the Linear Regression model with TFIDF_Vectorizer for future use\n",
    "joblib.dump(grid_lr, \"Logistic_Regression_Python_model.sav\")\n",
    "joblib.dump(tfidf, \"TFIDF_Vectorizer.sav\")"
   ]
  },
  {
   "cell_type": "markdown",
   "metadata": {},
   "source": [
    "# Testing on Test data "
   ]
  },
  {
   "cell_type": "code",
   "execution_count": 47,
   "metadata": {},
   "outputs": [
    {
     "name": "stdout",
     "output_type": "stream",
     "text": [
      "[6]\n"
     ]
    }
   ],
   "source": [
    "print(grid_lr.predict(tfidf.transform([\"ringcentral partner pcm bring cloud communication solution enterprise\"])))"
   ]
  },
  {
   "cell_type": "code",
   "execution_count": 48,
   "metadata": {},
   "outputs": [
    {
     "name": "stdout",
     "output_type": "stream",
     "text": [
      "[2]\n"
     ]
    }
   ],
   "source": [
    "print(grid_lr.predict(tfidf.transform([\"bank baroda hire consultancy firm evaluate board performance\"])))"
   ]
  },
  {
   "cell_type": "code",
   "execution_count": 49,
   "metadata": {},
   "outputs": [
    {
     "name": "stdout",
     "output_type": "stream",
     "text": [
      "[0]\n"
     ]
    }
   ],
   "source": [
    "print(grid_lr.predict(tfidf.transform([\"pleasant hill ca u brandnew burlington store set open next week pleasant hill squarefoot store offer brandname merchandise discount price open friday may pleasant hill shopping center contra costa blvdnnwe thrilled open new burlington pleasant hill said tom kingsbury ceo chairman burlington store this new location brings job community provides great shopping experience entire family whether theyre looking brandname clothing stylish home dxecor item anything baby customer enjoy significant saving discover new merchandise arrival weeknncommunity member invited join store associate local official ribbon cutting ceremony am friday may grand opening day event continues am local resident invited among first shop new store first customer receive free burlington totennthe celebration continues saturday morning may store open am customer invited enjoy family fun day festivity am pm dj giftcard giveaway kid activitiesnnother way burlington celebrating grand opening pleasant hill store following philanthropic initiativesnnnnburlington partnership adoptaclassroomorg donate nearby school fund material teacher student need learn achieve classroomnnthroughout year new store join retailer nationwide cause marketing initiative limited to warm coat warm heart coat drive leukemia lymphoma society support adoptaclassroomorgnnsince retailer raised million dollar national cause local impact including limited to support leukemia lymphoma society adoptaclassroomorg burlington also donated million coat annual warm coat warm heart coat drive since inception nnapproximately associate hired work new store receive new merchandise week trucknnregular hour new pleasant hill store am pm monday saturday am pm sunday\"])))"
   ]
  },
  {
   "cell_type": "code",
   "execution_count": 51,
   "metadata": {},
   "outputs": [
    {
     "name": "stdout",
     "output_type": "stream",
     "text": [
      "[5]\n"
     ]
    }
   ],
   "source": [
    "# Unseen data\n",
    "print(grid_lr.predict(tfidf.transform([\"I going to acquire a new company\"])))"
   ]
  },
  {
   "cell_type": "markdown",
   "metadata": {},
   "source": [
    "# The below part shows the above model development by balancing the imbalanced classes using SMOTE"
   ]
  },
  {
   "cell_type": "code",
   "execution_count": 76,
   "metadata": {},
   "outputs": [
    {
     "data": {
      "image/png": "[encoded data removed]",
      "text/plain": [
       "<Figure size 576x432 with 1 Axes>"
      ]
     },
     "metadata": {
      "needs_background": "light"
     },
     "output_type": "display_data"
    }
   ],
   "source": [
    "# Check the count of news category\n",
    "fig = plt.figure(figsize=(8,6))\n",
    "final_data.groupby('category').news_description.count().plot.bar(ylim=0)\n",
    "plt.show()"
   ]
  },
  {
   "cell_type": "code",
   "execution_count": null,
   "metadata": {},
   "outputs": [],
   "source": []
  }
 ],
 "metadata": {
  "kernelspec": {
   "display_name": "Python 3",
   "language": "python",
   "name": "python3"
  },
  "language_info": {
   "codemirror_mode": {
    "name": "ipython",
    "version": 3
   },
   "file_extension": ".py",
   "mimetype": "text/x-python",
   "name": "python",
   "nbconvert_exporter": "python",
   "pygments_lexer": "ipython3",
   "version": "3.6.8"
  }
 },
 "nbformat": 4,
 "nbformat_minor": 2
}
